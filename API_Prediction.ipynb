{
  "nbformat": 4,
  "nbformat_minor": 0,
  "metadata": {
    "colab": {
      "provenance": [],
      "authorship_tag": "ABX9TyMwTMXs0NIJKvsHqB0pPn/O",
      "include_colab_link": true
    },
    "kernelspec": {
      "name": "python3",
      "display_name": "Python 3"
    },
    "language_info": {
      "name": "python"
    }
  },
  "cells": [
    {
      "cell_type": "markdown",
      "metadata": {
        "id": "view-in-github",
        "colab_type": "text"
      },
      "source": [
        "<a href=\"https://colab.research.google.com/github/ayu-shiirathore/API_Prediction_Model/blob/main/API_Prediction.ipynb\" target=\"_parent\"><img src=\"https://colab.research.google.com/assets/colab-badge.svg\" alt=\"Open In Colab\"/></a>"
      ]
    },
    {
      "cell_type": "code",
      "source": [
        "!pip install pandas scikit-learn openpyxl\n"
      ],
      "metadata": {
        "colab": {
          "base_uri": "https://localhost:8080/"
        },
        "id": "6HJ0xPPzXgSn",
        "outputId": "708545f5-3de2-43e6-b222-7eebef5ae335"
      },
      "execution_count": null,
      "outputs": [
        {
          "output_type": "stream",
          "name": "stdout",
          "text": [
            "Requirement already satisfied: pandas in /usr/local/lib/python3.10/dist-packages (2.2.2)\n",
            "Requirement already satisfied: scikit-learn in /usr/local/lib/python3.10/dist-packages (1.5.2)\n",
            "Requirement already satisfied: openpyxl in /usr/local/lib/python3.10/dist-packages (3.1.5)\n",
            "Requirement already satisfied: numpy>=1.22.4 in /usr/local/lib/python3.10/dist-packages (from pandas) (1.26.4)\n",
            "Requirement already satisfied: python-dateutil>=2.8.2 in /usr/local/lib/python3.10/dist-packages (from pandas) (2.8.2)\n",
            "Requirement already satisfied: pytz>=2020.1 in /usr/local/lib/python3.10/dist-packages (from pandas) (2024.2)\n",
            "Requirement already satisfied: tzdata>=2022.7 in /usr/local/lib/python3.10/dist-packages (from pandas) (2024.2)\n",
            "Requirement already satisfied: scipy>=1.6.0 in /usr/local/lib/python3.10/dist-packages (from scikit-learn) (1.13.1)\n",
            "Requirement already satisfied: joblib>=1.2.0 in /usr/local/lib/python3.10/dist-packages (from scikit-learn) (1.4.2)\n",
            "Requirement already satisfied: threadpoolctl>=3.1.0 in /usr/local/lib/python3.10/dist-packages (from scikit-learn) (3.5.0)\n",
            "Requirement already satisfied: et-xmlfile in /usr/local/lib/python3.10/dist-packages (from openpyxl) (2.0.0)\n",
            "Requirement already satisfied: six>=1.5 in /usr/local/lib/python3.10/dist-packages (from python-dateutil>=2.8.2->pandas) (1.16.0)\n"
          ]
        }
      ]
    },
    {
      "cell_type": "code",
      "source": [
        "import pandas as pd\n",
        "from sklearn.model_selection import train_test_split\n",
        "from sklearn.ensemble import RandomForestRegressor, GradientBoostingRegressor\n",
        "from sklearn.linear_model import LinearRegression\n",
        "from sklearn.tree import DecisionTreeRegressor\n",
        "from sklearn.svm import SVR\n",
        "from sklearn.metrics import mean_absolute_error\n",
        "\n",
        "# Load the dataset\n",
        "file_path = \"API_Call_Dataset.csv\"  # Update with the actual file path\n",
        "data = pd.read_csv(\"/content/API Call Dataset.csv\", encoding='latin1')  # Handle potential encoding issues\n",
        "\n",
        "# Step 1: Identify the top four most frequently called APIs\n",
        "top_apis = data['API Code'].value_counts().head(4).index.tolist()\n",
        "\n",
        "# Step 2: Prepare data for modeling\n",
        "def prepare_data(api_data, time_span_minutes):\n",
        "    # Convert 'Time of Call' to datetime\n",
        "    api_data['Time of Call'] = pd.to_datetime(\n",
        "        api_data['Time of Call'],\n",
        "        format='%d-%m-%Y %H:%M',  # Adjust format if necessary\n",
        "        errors='coerce'\n",
        "    )\n",
        "    api_data = api_data.dropna(subset=['Time of Call'])  # Drop invalid timestamps\n",
        "\n",
        "    api_data['Hour'] = api_data['Time of Call'].dt.hour\n",
        "    api_data['Minute'] = api_data['Time of Call'].dt.minute\n",
        "    api_data['Time Since Last Call'] = api_data['Time of Call'].diff().dt.total_seconds().div(60).fillna(0)\n",
        "\n",
        "    # Target: Number of calls in the user-defined time span\n",
        "    api_data[f'Next {time_span_minutes} Min Calls'] = api_data.apply(\n",
        "        lambda row: ((api_data['Time of Call'] > row['Time of Call']) &\n",
        "                     (api_data['Time of Call'] <= row['Time of Call'] + pd.Timedelta(minutes=time_span_minutes))).sum(), axis=1\n",
        "    )\n",
        "\n",
        "    # Keep only relevant columns\n",
        "    api_data = api_data[['Hour', 'Minute', 'Time Since Last Call', f'Next {time_span_minutes} Min Calls']]\n",
        "    return api_data\n",
        "\n",
        "# Step 3: Train models for each API\n",
        "def train_models(api_data, time_span_minutes):\n",
        "    target_col = f'Next {time_span_minutes} Min Calls'\n",
        "    X = api_data.drop(columns=[target_col])\n",
        "    y = api_data[target_col]\n",
        "\n",
        "    # Train-test split\n",
        "    X_train, X_test, y_train, y_test = train_test_split(X, y, test_size=0.2, random_state=42)\n",
        "\n",
        "    # Define models\n",
        "    model_dict = {\n",
        "        \"Random Forest\": RandomForestRegressor(random_state=42),\n",
        "        \"Gradient Boosting\": GradientBoostingRegressor(random_state=42),\n",
        "        \"Linear Regression\": LinearRegression(),\n",
        "        \"Decision Tree\": DecisionTreeRegressor(random_state=42),\n",
        "        \"Support Vector Regressor\": SVR()\n",
        "    }\n",
        "\n",
        "    # Train and evaluate all models\n",
        "    api_results = {}\n",
        "    best_model = None\n",
        "    best_mae = float('inf')\n",
        "\n",
        "    for model_name, model in model_dict.items():\n",
        "        model.fit(X_train, y_train)\n",
        "        predictions = model.predict(X_test)\n",
        "        mae = mean_absolute_error(y_test, predictions)\n",
        "        api_results[model_name] = mae\n",
        "\n",
        "        # Track the best model\n",
        "        if mae < best_mae:\n",
        "            best_mae = mae\n",
        "            best_model = model\n",
        "\n",
        "    return best_model, api_results\n",
        "\n",
        "# Step 4: User input for time span prediction (in minutes)\n",
        "time_span = int(input(\"Enter the time span after which you want to predict the number of API calls (in minutes): \"))\n",
        "\n",
        "# Step 5: Create separate Excel files for each top API and train models\n",
        "best_models = {}\n",
        "for api in top_apis:\n",
        "    # Filter the data for the API and save to an Excel file\n",
        "    api_data = data[data['API Code'] == api]\n",
        "    api_data_file = f\"{api}_API_Data.xlsx\"\n",
        "    api_data.to_excel(api_data_file, index=False)\n",
        "    print(f\"Excel file created for API {api}: {api_data_file}\")\n",
        "\n",
        "    # Prepare the data for training\n",
        "    api_data_prepared = prepare_data(api_data, time_span)\n",
        "\n",
        "    # Train models and choose the best one for this API\n",
        "    best_model, api_results = train_models(api_data_prepared, time_span)\n",
        "    best_models[api] = best_model\n",
        "    print(f\"\\nAPI {api} - Model Performance (MAE): {api_results}\")\n",
        "    print(f\"Best model for API {api}: {best_model}\")\n",
        "\n",
        "# Step 6: Prediction based on user-defined time span\n",
        "for api, model in best_models.items():\n",
        "    print(f\"\\nPrediction for API {api}:\")\n",
        "\n",
        "    # Calculate the current time\n",
        "    current_time = pd.Timestamp.now()\n",
        "\n",
        "    # Calculate the prediction time by adding the user-defined time span to the current time\n",
        "    prediction_time = current_time + pd.Timedelta(minutes=time_span)\n",
        "\n",
        "    print(f\"Prediction time: {prediction_time}\")\n",
        "\n",
        "    # Calculate 'Time Since Last Call' using the calculated prediction time\n",
        "    api_data = data[data['API Code'] == api]\n",
        "    api_data['Time of Call'] = pd.to_datetime(api_data['Time of Call'], format='%d-%m-%Y %H:%M', errors='coerce')\n",
        "    last_call_time = api_data['Time of Call'].max()\n",
        "    time_since_last_call = (prediction_time - last_call_time).total_seconds() / 60\n",
        "\n",
        "    # Prepare the input feature vector\n",
        "    input_data = pd.DataFrame({\n",
        "        'Hour': [prediction_time.hour],\n",
        "        'Minute': [prediction_time.minute],\n",
        "        'Time Since Last Call': [time_since_last_call]\n",
        "    })\n",
        "\n",
        "    # Predict using the best model\n",
        "    prediction = model.predict(input_data)\n",
        "\n",
        "    # Round the prediction to the nearest integer\n",
        "    prediction_rounded = round(prediction[0])  # Round to nearest integer\n",
        "    print(f\"Predicted number of calls for API {api} in the next {time_span} minutes: {prediction_rounded}\")\n",
        "    print(f\"Model used for prediction: {type(model).__name__}\")\n"
      ],
      "metadata": {
        "id": "I51PuA6radJv",
        "colab": {
          "base_uri": "https://localhost:8080/"
        },
        "outputId": "757c4051-846c-4cfb-93b9-79c26bf1e782"
      },
      "execution_count": null,
      "outputs": [
        {
          "output_type": "stream",
          "name": "stdout",
          "text": [
            "Enter the time span after which you want to predict the number of API calls (in minutes): 780\n",
            "Excel file created for API A9: A9_API_Data.xlsx\n"
          ]
        },
        {
          "output_type": "stream",
          "name": "stderr",
          "text": [
            "<ipython-input-17-92ecde880515>:19: SettingWithCopyWarning: \n",
            "A value is trying to be set on a copy of a slice from a DataFrame.\n",
            "Try using .loc[row_indexer,col_indexer] = value instead\n",
            "\n",
            "See the caveats in the documentation: https://pandas.pydata.org/pandas-docs/stable/user_guide/indexing.html#returning-a-view-versus-a-copy\n",
            "  api_data['Time of Call'] = pd.to_datetime(\n"
          ]
        },
        {
          "output_type": "stream",
          "name": "stdout",
          "text": [
            "\n",
            "API A9 - Model Performance (MAE): {'Random Forest': 2.3981072640868972, 'Gradient Boosting': 2.355084581716622, 'Linear Regression': 2.337941702716507, 'Decision Tree': 3.0814663951120163, 'Support Vector Regressor': 2.3410577407520416}\n",
            "Best model for API A9: LinearRegression()\n",
            "Excel file created for API A2: A2_API_Data.xlsx\n"
          ]
        },
        {
          "output_type": "stream",
          "name": "stderr",
          "text": [
            "<ipython-input-17-92ecde880515>:19: SettingWithCopyWarning: \n",
            "A value is trying to be set on a copy of a slice from a DataFrame.\n",
            "Try using .loc[row_indexer,col_indexer] = value instead\n",
            "\n",
            "See the caveats in the documentation: https://pandas.pydata.org/pandas-docs/stable/user_guide/indexing.html#returning-a-view-versus-a-copy\n",
            "  api_data['Time of Call'] = pd.to_datetime(\n"
          ]
        },
        {
          "output_type": "stream",
          "name": "stdout",
          "text": [
            "\n",
            "API A2 - Model Performance (MAE): {'Random Forest': 2.4673237704918036, 'Gradient Boosting': 2.3846203013992953, 'Linear Regression': 2.3331176673301264, 'Decision Tree': 3.2315573770491803, 'Support Vector Regressor': 2.3361262880002225}\n",
            "Best model for API A2: LinearRegression()\n",
            "Excel file created for API A7: A7_API_Data.xlsx\n"
          ]
        },
        {
          "output_type": "stream",
          "name": "stderr",
          "text": [
            "<ipython-input-17-92ecde880515>:19: SettingWithCopyWarning: \n",
            "A value is trying to be set on a copy of a slice from a DataFrame.\n",
            "Try using .loc[row_indexer,col_indexer] = value instead\n",
            "\n",
            "See the caveats in the documentation: https://pandas.pydata.org/pandas-docs/stable/user_guide/indexing.html#returning-a-view-versus-a-copy\n",
            "  api_data['Time of Call'] = pd.to_datetime(\n"
          ]
        },
        {
          "output_type": "stream",
          "name": "stdout",
          "text": [
            "\n",
            "API A7 - Model Performance (MAE): {'Random Forest': 2.1858924619640385, 'Gradient Boosting': 2.0676712607885817, 'Linear Regression': 2.0428876393612714, 'Decision Tree': 2.8568464730290457, 'Support Vector Regressor': 2.034609333792581}\n",
            "Best model for API A7: SVR()\n",
            "Excel file created for API A4: A4_API_Data.xlsx\n"
          ]
        },
        {
          "output_type": "stream",
          "name": "stderr",
          "text": [
            "<ipython-input-17-92ecde880515>:19: SettingWithCopyWarning: \n",
            "A value is trying to be set on a copy of a slice from a DataFrame.\n",
            "Try using .loc[row_indexer,col_indexer] = value instead\n",
            "\n",
            "See the caveats in the documentation: https://pandas.pydata.org/pandas-docs/stable/user_guide/indexing.html#returning-a-view-versus-a-copy\n",
            "  api_data['Time of Call'] = pd.to_datetime(\n"
          ]
        },
        {
          "output_type": "stream",
          "name": "stdout",
          "text": [
            "\n",
            "API A4 - Model Performance (MAE): {'Random Forest': 2.4948236313236314, 'Gradient Boosting': 2.3749759474996077, 'Linear Regression': 2.360240037141744, 'Decision Tree': 3.3762993762993765, 'Support Vector Regressor': 2.352841960386524}\n",
            "Best model for API A4: SVR()\n",
            "\n",
            "Prediction for API A9:\n",
            "Prediction time: 2024-11-24 18:01:37.665963\n",
            "Predicted number of calls for API A9 in the next 780 minutes: 307\n",
            "Model used for prediction: LinearRegression\n",
            "\n",
            "Prediction for API A2:\n",
            "Prediction time: 2024-11-24 18:01:37.680691\n",
            "Predicted number of calls for API A2 in the next 780 minutes: 556\n",
            "Model used for prediction: LinearRegression\n",
            "\n",
            "Prediction for API A7:\n",
            "Prediction time: 2024-11-24 18:01:37.696195\n",
            "Predicted number of calls for API A7 in the next 780 minutes: 8\n",
            "Model used for prediction: SVR\n",
            "\n",
            "Prediction for API A4:\n",
            "Prediction time: 2024-11-24 18:01:37.710827\n",
            "Predicted number of calls for API A4 in the next 780 minutes: 8\n",
            "Model used for prediction: SVR\n"
          ]
        },
        {
          "output_type": "stream",
          "name": "stderr",
          "text": [
            "<ipython-input-17-92ecde880515>:111: SettingWithCopyWarning: \n",
            "A value is trying to be set on a copy of a slice from a DataFrame.\n",
            "Try using .loc[row_indexer,col_indexer] = value instead\n",
            "\n",
            "See the caveats in the documentation: https://pandas.pydata.org/pandas-docs/stable/user_guide/indexing.html#returning-a-view-versus-a-copy\n",
            "  api_data['Time of Call'] = pd.to_datetime(api_data['Time of Call'], format='%d-%m-%Y %H:%M', errors='coerce')\n",
            "<ipython-input-17-92ecde880515>:111: SettingWithCopyWarning: \n",
            "A value is trying to be set on a copy of a slice from a DataFrame.\n",
            "Try using .loc[row_indexer,col_indexer] = value instead\n",
            "\n",
            "See the caveats in the documentation: https://pandas.pydata.org/pandas-docs/stable/user_guide/indexing.html#returning-a-view-versus-a-copy\n",
            "  api_data['Time of Call'] = pd.to_datetime(api_data['Time of Call'], format='%d-%m-%Y %H:%M', errors='coerce')\n",
            "<ipython-input-17-92ecde880515>:111: SettingWithCopyWarning: \n",
            "A value is trying to be set on a copy of a slice from a DataFrame.\n",
            "Try using .loc[row_indexer,col_indexer] = value instead\n",
            "\n",
            "See the caveats in the documentation: https://pandas.pydata.org/pandas-docs/stable/user_guide/indexing.html#returning-a-view-versus-a-copy\n",
            "  api_data['Time of Call'] = pd.to_datetime(api_data['Time of Call'], format='%d-%m-%Y %H:%M', errors='coerce')\n",
            "<ipython-input-17-92ecde880515>:111: SettingWithCopyWarning: \n",
            "A value is trying to be set on a copy of a slice from a DataFrame.\n",
            "Try using .loc[row_indexer,col_indexer] = value instead\n",
            "\n",
            "See the caveats in the documentation: https://pandas.pydata.org/pandas-docs/stable/user_guide/indexing.html#returning-a-view-versus-a-copy\n",
            "  api_data['Time of Call'] = pd.to_datetime(api_data['Time of Call'], format='%d-%m-%Y %H:%M', errors='coerce')\n"
          ]
        }
      ]
    },
    {
      "cell_type": "code",
      "source": [],
      "metadata": {
        "id": "LWn7Dk5NgIpj"
      },
      "execution_count": null,
      "outputs": []
    }
  ]
}